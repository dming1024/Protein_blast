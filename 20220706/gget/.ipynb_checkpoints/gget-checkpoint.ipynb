{
 "cells": [
  {
   "cell_type": "markdown",
   "id": "1ba5efee",
   "metadata": {},
   "source": [
    "# 获取基因序列信息"
   ]
  },
  {
   "cell_type": "markdown",
   "id": "94fd57d5",
   "metadata": {},
   "source": [
    "## 参考文章\n",
    "\n",
    "https://github.com/pachterlab/gget"
   ]
  },
  {
   "cell_type": "code",
   "execution_count": 2,
   "id": "c0b7a163",
   "metadata": {},
   "outputs": [
    {
     "name": "stdout",
     "output_type": "stream",
     "text": [
      "Looking in indexes: https://pypi.douban.com/simple\n",
      "Collecting gget\n",
      "  Using cached https://pypi.doubanio.com/packages/49/bc/2ed84aabba0b31a163af6d203d3a7e2d8eb9f41411c7923316284c613b83/gget-0.2.5-py3-none-any.whl (1.2 MB)\n",
      "Requirement already satisfied: matplotlib in c:\\programdata\\anaconda3\\lib\\site-packages (from gget) (3.3.4)\n",
      "Note: you may need to restart the kernel to use updated packages.\n"
     ]
    },
    {
     "name": "stderr",
     "output_type": "stream",
     "text": [
      "  WARNING: The script gget.exe is installed in 'C:\\Users\\fan_qiangqiang\\AppData\\Roaming\\Python\\Python38\\Scripts' which is not on PATH.\n",
      "  Consider adding this directory to PATH or, if you prefer to suppress this warning, use --no-warn-script-location.\n"
     ]
    },
    {
     "name": "stdout",
     "output_type": "stream",
     "text": [
      "Requirement already satisfied: numpy>=1.17.2 in c:\\programdata\\anaconda3\\lib\\site-packages (from gget) (1.20.1)\n",
      "Requirement already satisfied: mysql-connector-python>=8.0.5 in c:\\programdata\\anaconda3\\lib\\site-packages (from gget) (8.0.29)\n",
      "Requirement already satisfied: requests>=2.22.0 in c:\\programdata\\anaconda3\\lib\\site-packages (from gget) (2.25.1)\n",
      "Requirement already satisfied: ipython in c:\\programdata\\anaconda3\\lib\\site-packages (from gget) (7.22.0)\n",
      "Collecting beautifulsoup4>=4.10.0\n",
      "  Using cached https://pypi.doubanio.com/packages/9c/d8/909c4089dbe4ade9f9705f143c9f13f065049a9d5e7d34c828aefdd0a97c/beautifulsoup4-4.11.1-py3-none-any.whl (128 kB)\n",
      "Requirement already satisfied: pandas>=1.0.0 in c:\\programdata\\anaconda3\\lib\\site-packages (from gget) (1.2.4)\n",
      "Requirement already satisfied: soupsieve>1.2 in c:\\programdata\\anaconda3\\lib\\site-packages (from beautifulsoup4>=4.10.0->gget) (2.2.1)\n",
      "Requirement already satisfied: protobuf>=3.0.0 in c:\\programdata\\anaconda3\\lib\\site-packages (from mysql-connector-python>=8.0.5->gget) (4.21.2)\n",
      "Requirement already satisfied: python-dateutil>=2.7.3 in c:\\programdata\\anaconda3\\lib\\site-packages (from pandas>=1.0.0->gget) (2.8.1)\n",
      "Requirement already satisfied: pytz>=2017.3 in c:\\programdata\\anaconda3\\lib\\site-packages (from pandas>=1.0.0->gget) (2021.1)\n",
      "Requirement already satisfied: six>=1.5 in c:\\programdata\\anaconda3\\lib\\site-packages (from python-dateutil>=2.7.3->pandas>=1.0.0->gget) (1.15.0)\n",
      "Requirement already satisfied: chardet<5,>=3.0.2 in c:\\programdata\\anaconda3\\lib\\site-packages (from requests>=2.22.0->gget) (4.0.0)\n",
      "Requirement already satisfied: certifi>=2017.4.17 in c:\\programdata\\anaconda3\\lib\\site-packages (from requests>=2.22.0->gget) (2020.12.5)\n",
      "Requirement already satisfied: urllib3<1.27,>=1.21.1 in c:\\programdata\\anaconda3\\lib\\site-packages (from requests>=2.22.0->gget) (1.26.4)\n",
      "Requirement already satisfied: idna<3,>=2.5 in c:\\programdata\\anaconda3\\lib\\site-packages (from requests>=2.22.0->gget) (2.10)\n",
      "Requirement already satisfied: backcall in c:\\programdata\\anaconda3\\lib\\site-packages (from ipython->gget) (0.2.0)\n",
      "Requirement already satisfied: traitlets>=4.2 in c:\\programdata\\anaconda3\\lib\\site-packages (from ipython->gget) (5.0.5)\n",
      "Requirement already satisfied: decorator in c:\\programdata\\anaconda3\\lib\\site-packages (from ipython->gget) (5.0.6)\n",
      "Requirement already satisfied: pickleshare in c:\\programdata\\anaconda3\\lib\\site-packages (from ipython->gget) (0.7.5)\n",
      "Requirement already satisfied: prompt-toolkit!=3.0.0,!=3.0.1,<3.1.0,>=2.0.0 in c:\\programdata\\anaconda3\\lib\\site-packages (from ipython->gget) (3.0.17)\n",
      "Requirement already satisfied: pygments in c:\\programdata\\anaconda3\\lib\\site-packages (from ipython->gget) (2.8.1)\n",
      "Requirement already satisfied: setuptools>=18.5 in c:\\programdata\\anaconda3\\lib\\site-packages (from ipython->gget) (52.0.0.post20210125)\n",
      "Requirement already satisfied: jedi>=0.16 in c:\\programdata\\anaconda3\\lib\\site-packages (from ipython->gget) (0.17.2)\n",
      "Requirement already satisfied: colorama in c:\\programdata\\anaconda3\\lib\\site-packages (from ipython->gget) (0.4.4)\n",
      "Requirement already satisfied: parso<0.8.0,>=0.7.0 in c:\\programdata\\anaconda3\\lib\\site-packages (from jedi>=0.16->ipython->gget) (0.7.0)\n",
      "Requirement already satisfied: wcwidth in c:\\programdata\\anaconda3\\lib\\site-packages (from prompt-toolkit!=3.0.0,!=3.0.1,<3.1.0,>=2.0.0->ipython->gget) (0.2.5)\n",
      "Requirement already satisfied: ipython-genutils in c:\\programdata\\anaconda3\\lib\\site-packages (from traitlets>=4.2->ipython->gget) (0.2.0)\n",
      "Requirement already satisfied: cycler>=0.10 in c:\\programdata\\anaconda3\\lib\\site-packages (from matplotlib->gget) (0.10.0)\n",
      "Requirement already satisfied: kiwisolver>=1.0.1 in c:\\programdata\\anaconda3\\lib\\site-packages (from matplotlib->gget) (1.3.1)\n",
      "Requirement already satisfied: pyparsing!=2.0.4,!=2.1.2,!=2.1.6,>=2.0.3 in c:\\programdata\\anaconda3\\lib\\site-packages (from matplotlib->gget) (2.4.7)\n",
      "Requirement already satisfied: pillow>=6.2.0 in c:\\programdata\\anaconda3\\lib\\site-packages (from matplotlib->gget) (8.2.0)\n",
      "Installing collected packages: beautifulsoup4, gget\n",
      "Successfully installed beautifulsoup4-4.11.1 gget-0.2.5\n"
     ]
    }
   ],
   "source": [
    "pip install gget -i https://pypi.douban.com/simple --user"
   ]
  },
  {
   "cell_type": "code",
   "execution_count": 1,
   "id": "d2b04981",
   "metadata": {},
   "outputs": [],
   "source": [
    "import gget"
   ]
  },
  {
   "cell_type": "markdown",
   "id": "e9f1342f",
   "metadata": {},
   "source": [
    "## 获取人类参考基因组信息"
   ]
  },
  {
   "cell_type": "code",
   "execution_count": 5,
   "id": "898f4d0e",
   "metadata": {},
   "outputs": [
    {
     "name": "stderr",
     "output_type": "stream",
     "text": [
      "Thu Jul  7 09:50:55 2022 INFO Fetching reference information for homo_sapiens from Ensembl release: 106.\n"
     ]
    },
    {
     "data": {
      "text/plain": [
       "{'homo_sapiens': {'transcriptome_cdna': {'ftp': 'http://ftp.ensembl.org/pub/release-106/fasta/homo_sapiens/cdna/Homo_sapiens.GRCh38.cdna.all.fa.gz',\n",
       "   'ensembl_release': 106,\n",
       "   'release_date': '17-Feb-2022',\n",
       "   'release_time': '19:50',\n",
       "   'bytes': '76937571'},\n",
       "  'genome_dna': {'ftp': 'http://ftp.ensembl.org/pub/release-106/fasta/homo_sapiens/dna/Homo_sapiens.GRCh38.dna.primary_assembly.fa.gz',\n",
       "   'ensembl_release': 106,\n",
       "   'release_date': '21-Feb-2022',\n",
       "   'release_time': '09:35',\n",
       "   'bytes': '881211416'},\n",
       "  'annotation_gtf': {'ftp': 'http://ftp.ensembl.org/pub/release-106/gtf/homo_sapiens/Homo_sapiens.GRCh38.106.gtf.gz',\n",
       "   'ensembl_release': 106,\n",
       "   'release_date': '28-Feb-2022',\n",
       "   'release_time': '23:27',\n",
       "   'bytes': '51379459'},\n",
       "  'coding_seq_cds': {'ftp': 'http://ftp.ensembl.org/pub/release-106/fasta/homo_sapiens/cds/Homo_sapiens.GRCh38.cds.all.fa.gz',\n",
       "   'ensembl_release': 106,\n",
       "   'release_date': '17-Feb-2022',\n",
       "   'release_time': '19:51',\n",
       "   'bytes': '22245684'},\n",
       "  'non-coding_seq_ncRNA': {'ftp': 'http://ftp.ensembl.org/pub/release-106/fasta/homo_sapiens/ncrna/Homo_sapiens.GRCh38.ncrna.fa.gz',\n",
       "   'ensembl_release': 106,\n",
       "   'release_date': '17-Feb-2022',\n",
       "   'release_time': '22:07',\n",
       "   'bytes': '17412837'},\n",
       "  'protein_translation_pep': {'ftp': 'http://ftp.ensembl.org/pub/release-106/fasta/homo_sapiens/pep/Homo_sapiens.GRCh38.pep.all.fa.gz',\n",
       "   'ensembl_release': 106,\n",
       "   'release_date': '17-Feb-2022',\n",
       "   'release_time': '19:50',\n",
       "   'bytes': '14450946'}}}"
      ]
     },
     "execution_count": 5,
     "metadata": {},
     "output_type": "execute_result"
    }
   ],
   "source": [
    "gget.ref(\"homo_sapiens\")"
   ]
  },
  {
   "cell_type": "markdown",
   "id": "baf6f2f9",
   "metadata": {},
   "source": [
    "## 查询基因"
   ]
  },
  {
   "cell_type": "code",
   "execution_count": 6,
   "id": "e61be98e",
   "metadata": {},
   "outputs": [
    {
     "name": "stderr",
     "output_type": "stream",
     "text": [
      "Thu Jul  7 09:51:39 2022 INFO Fetching results from database: homo_sapiens_core_106_38\n",
      "Thu Jul  7 09:51:42 2022 INFO Total matches found: 3.\n",
      "Thu Jul  7 09:51:42 2022 INFO Query time: 5.75 seconds.\n"
     ]
    },
    {
     "data": {
      "text/html": [
       "<div>\n",
       "<style scoped>\n",
       "    .dataframe tbody tr th:only-of-type {\n",
       "        vertical-align: middle;\n",
       "    }\n",
       "\n",
       "    .dataframe tbody tr th {\n",
       "        vertical-align: top;\n",
       "    }\n",
       "\n",
       "    .dataframe thead th {\n",
       "        text-align: right;\n",
       "    }\n",
       "</style>\n",
       "<table border=\"1\" class=\"dataframe\">\n",
       "  <thead>\n",
       "    <tr style=\"text-align: right;\">\n",
       "      <th></th>\n",
       "      <th>ensembl_id</th>\n",
       "      <th>gene_name</th>\n",
       "      <th>ensembl_description</th>\n",
       "      <th>ext_ref_description</th>\n",
       "      <th>biotype</th>\n",
       "      <th>url</th>\n",
       "    </tr>\n",
       "  </thead>\n",
       "  <tbody>\n",
       "    <tr>\n",
       "      <th>0</th>\n",
       "      <td>ENSG00000130234</td>\n",
       "      <td>ACE2</td>\n",
       "      <td>angiotensin converting enzyme 2 [Source:HGNC S...</td>\n",
       "      <td>angiotensin converting enzyme 2</td>\n",
       "      <td>protein_coding</td>\n",
       "      <td>https://uswest.ensembl.org/homo_sapiens/Gene/S...</td>\n",
       "    </tr>\n",
       "    <tr>\n",
       "      <th>1</th>\n",
       "      <td>ENSG00000182240</td>\n",
       "      <td>BACE2</td>\n",
       "      <td>beta-secretase 2 [Source:HGNC Symbol;Acc:HGNC:...</td>\n",
       "      <td>beta-secretase 2</td>\n",
       "      <td>protein_coding</td>\n",
       "      <td>https://uswest.ensembl.org/homo_sapiens/Gene/S...</td>\n",
       "    </tr>\n",
       "    <tr>\n",
       "      <th>2</th>\n",
       "      <td>ENSG00000224388</td>\n",
       "      <td>BACE2-IT1</td>\n",
       "      <td>BACE2 intronic transcript 1 [Source:HGNC Symbo...</td>\n",
       "      <td>BACE2 intronic transcript 1</td>\n",
       "      <td>lncRNA</td>\n",
       "      <td>https://uswest.ensembl.org/homo_sapiens/Gene/S...</td>\n",
       "    </tr>\n",
       "  </tbody>\n",
       "</table>\n",
       "</div>"
      ],
      "text/plain": [
       "        ensembl_id  gene_name  \\\n",
       "0  ENSG00000130234       ACE2   \n",
       "1  ENSG00000182240      BACE2   \n",
       "2  ENSG00000224388  BACE2-IT1   \n",
       "\n",
       "                                 ensembl_description  \\\n",
       "0  angiotensin converting enzyme 2 [Source:HGNC S...   \n",
       "1  beta-secretase 2 [Source:HGNC Symbol;Acc:HGNC:...   \n",
       "2  BACE2 intronic transcript 1 [Source:HGNC Symbo...   \n",
       "\n",
       "               ext_ref_description         biotype  \\\n",
       "0  angiotensin converting enzyme 2  protein_coding   \n",
       "1                 beta-secretase 2  protein_coding   \n",
       "2      BACE2 intronic transcript 1          lncRNA   \n",
       "\n",
       "                                                 url  \n",
       "0  https://uswest.ensembl.org/homo_sapiens/Gene/S...  \n",
       "1  https://uswest.ensembl.org/homo_sapiens/Gene/S...  \n",
       "2  https://uswest.ensembl.org/homo_sapiens/Gene/S...  "
      ]
     },
     "execution_count": 6,
     "metadata": {},
     "output_type": "execute_result"
    }
   ],
   "source": [
    "gget.search([\"ace2\", \"angiotensin converting enzyme 2\"], \"homo_sapiens\")"
   ]
  },
  {
   "cell_type": "markdown",
   "id": "b5500abc",
   "metadata": {},
   "source": [
    "## 获取基因转录本信息\n",
    "\n",
    "+ 某个基因，特定转录本"
   ]
  },
  {
   "cell_type": "code",
   "execution_count": 8,
   "id": "588543dd",
   "metadata": {},
   "outputs": [
    {
     "data": {
      "text/html": [
       "<div>\n",
       "<style scoped>\n",
       "    .dataframe tbody tr th:only-of-type {\n",
       "        vertical-align: middle;\n",
       "    }\n",
       "\n",
       "    .dataframe tbody tr th {\n",
       "        vertical-align: top;\n",
       "    }\n",
       "\n",
       "    .dataframe thead th {\n",
       "        text-align: right;\n",
       "    }\n",
       "</style>\n",
       "<table border=\"1\" class=\"dataframe\">\n",
       "  <thead>\n",
       "    <tr style=\"text-align: right;\">\n",
       "      <th></th>\n",
       "      <th>ensembl_id</th>\n",
       "      <th>uniprot_id</th>\n",
       "      <th>ncbi_gene_id</th>\n",
       "      <th>species</th>\n",
       "      <th>assembly_name</th>\n",
       "      <th>primary_gene_name</th>\n",
       "      <th>ensembl_gene_name</th>\n",
       "      <th>synonyms</th>\n",
       "      <th>parent_gene</th>\n",
       "      <th>protein_names</th>\n",
       "      <th>...</th>\n",
       "      <th>transcript_names</th>\n",
       "      <th>transcript_strands</th>\n",
       "      <th>transcript_starts</th>\n",
       "      <th>transcript_ends</th>\n",
       "      <th>all_exons</th>\n",
       "      <th>exon_starts</th>\n",
       "      <th>exon_ends</th>\n",
       "      <th>all_translations</th>\n",
       "      <th>translation_starts</th>\n",
       "      <th>translation_ends</th>\n",
       "    </tr>\n",
       "  </thead>\n",
       "  <tbody>\n",
       "    <tr>\n",
       "      <th>ENSG00000130234</th>\n",
       "      <td>ENSG00000130234.13</td>\n",
       "      <td>Q9BYF1</td>\n",
       "      <td>59272</td>\n",
       "      <td>homo_sapiens</td>\n",
       "      <td>GRCh38</td>\n",
       "      <td>ACE2</td>\n",
       "      <td>ACE2</td>\n",
       "      <td>[ACEH]</td>\n",
       "      <td>NaN</td>\n",
       "      <td>Angiotensin-converting enzyme 2</td>\n",
       "      <td>...</td>\n",
       "      <td>[ACE2-209, ACE2-208, ACE2-210, ACE2-206, ACE2-...</td>\n",
       "      <td>[-1, -1, -1, -1, -1, -1, -1, -1, -1, -1, -1]</td>\n",
       "      <td>[15494566, 15494566, 15518189, 15550715, 15557...</td>\n",
       "      <td>[15600960, 15600960, 15600960, 15600960, 15580...</td>\n",
       "      <td>NaN</td>\n",
       "      <td>NaN</td>\n",
       "      <td>NaN</td>\n",
       "      <td>NaN</td>\n",
       "      <td>NaN</td>\n",
       "      <td>NaN</td>\n",
       "    </tr>\n",
       "    <tr>\n",
       "      <th>ENST00000252519</th>\n",
       "      <td>ENST00000252519.8</td>\n",
       "      <td>Q9BYF1</td>\n",
       "      <td>59272</td>\n",
       "      <td>homo_sapiens</td>\n",
       "      <td>GRCh38</td>\n",
       "      <td>ACE2</td>\n",
       "      <td>ACE2-201</td>\n",
       "      <td>[ACEH]</td>\n",
       "      <td>ENSG00000130234</td>\n",
       "      <td>Angiotensin-converting enzyme 2</td>\n",
       "      <td>...</td>\n",
       "      <td>NaN</td>\n",
       "      <td>NaN</td>\n",
       "      <td>NaN</td>\n",
       "      <td>NaN</td>\n",
       "      <td>[ENSE00003897519.1, ENSE00000894057.1, ENSE000...</td>\n",
       "      <td>[15600726, 15594845, 15592229, 15591713, 15589...</td>\n",
       "      <td>[15600960, 15595003, 15592322, 15591856, 15589...</td>\n",
       "      <td>[ENSE00003897519.1, ENSE00000894057.1, ENSE000...</td>\n",
       "      <td>[15600726, 15594845, 15592229, 15591713, 15589...</td>\n",
       "      <td>[15600960, 15595003, 15592322, 15591856, 15589...</td>\n",
       "    </tr>\n",
       "  </tbody>\n",
       "</table>\n",
       "<p>2 rows × 32 columns</p>\n",
       "</div>"
      ],
      "text/plain": [
       "                         ensembl_id uniprot_id ncbi_gene_id       species  \\\n",
       "ENSG00000130234  ENSG00000130234.13     Q9BYF1        59272  homo_sapiens   \n",
       "ENST00000252519   ENST00000252519.8     Q9BYF1        59272  homo_sapiens   \n",
       "\n",
       "                assembly_name primary_gene_name ensembl_gene_name synonyms  \\\n",
       "ENSG00000130234        GRCh38              ACE2              ACE2   [ACEH]   \n",
       "ENST00000252519        GRCh38              ACE2          ACE2-201   [ACEH]   \n",
       "\n",
       "                     parent_gene                    protein_names  ...  \\\n",
       "ENSG00000130234              NaN  Angiotensin-converting enzyme 2  ...   \n",
       "ENST00000252519  ENSG00000130234  Angiotensin-converting enzyme 2  ...   \n",
       "\n",
       "                                                  transcript_names  \\\n",
       "ENSG00000130234  [ACE2-209, ACE2-208, ACE2-210, ACE2-206, ACE2-...   \n",
       "ENST00000252519                                                NaN   \n",
       "\n",
       "                                           transcript_strands  \\\n",
       "ENSG00000130234  [-1, -1, -1, -1, -1, -1, -1, -1, -1, -1, -1]   \n",
       "ENST00000252519                                           NaN   \n",
       "\n",
       "                                                 transcript_starts  \\\n",
       "ENSG00000130234  [15494566, 15494566, 15518189, 15550715, 15557...   \n",
       "ENST00000252519                                                NaN   \n",
       "\n",
       "                                                   transcript_ends  \\\n",
       "ENSG00000130234  [15600960, 15600960, 15600960, 15600960, 15580...   \n",
       "ENST00000252519                                                NaN   \n",
       "\n",
       "                                                         all_exons  \\\n",
       "ENSG00000130234                                                NaN   \n",
       "ENST00000252519  [ENSE00003897519.1, ENSE00000894057.1, ENSE000...   \n",
       "\n",
       "                                                       exon_starts  \\\n",
       "ENSG00000130234                                                NaN   \n",
       "ENST00000252519  [15600726, 15594845, 15592229, 15591713, 15589...   \n",
       "\n",
       "                                                         exon_ends  \\\n",
       "ENSG00000130234                                                NaN   \n",
       "ENST00000252519  [15600960, 15595003, 15592322, 15591856, 15589...   \n",
       "\n",
       "                                                  all_translations  \\\n",
       "ENSG00000130234                                                NaN   \n",
       "ENST00000252519  [ENSE00003897519.1, ENSE00000894057.1, ENSE000...   \n",
       "\n",
       "                                                translation_starts  \\\n",
       "ENSG00000130234                                                NaN   \n",
       "ENST00000252519  [15600726, 15594845, 15592229, 15591713, 15589...   \n",
       "\n",
       "                                                  translation_ends  \n",
       "ENSG00000130234                                                NaN  \n",
       "ENST00000252519  [15600960, 15595003, 15592322, 15591856, 15589...  \n",
       "\n",
       "[2 rows x 32 columns]"
      ]
     },
     "execution_count": 8,
     "metadata": {},
     "output_type": "execute_result"
    }
   ],
   "source": [
    "gget.info([\"ENSG00000130234\", \"ENST00000252519\"])"
   ]
  },
  {
   "cell_type": "markdown",
   "id": "8c106e86",
   "metadata": {},
   "source": [
    "## 获取蛋白序列信息\n",
    "\n",
    "根据Ensemble ID获取其翻译蛋白的序列信息"
   ]
  },
  {
   "cell_type": "code",
   "execution_count": 9,
   "id": "9da31c41",
   "metadata": {},
   "outputs": [
    {
     "name": "stderr",
     "output_type": "stream",
     "text": [
      "Thu Jul  7 09:53:50 2022 INFO Requesting amino acid sequence of the canonical transcript ENST00000252519 of gene ENSG00000130234 from UniProt.\n"
     ]
    },
    {
     "data": {
      "text/plain": [
       "['>ENST00000252519 uniprot_id: Q9BYF1 ensembl_id: ENST00000252519 gene_name: ACE2 organism: Homo sapiens sequence_length: 805',\n",
       " 'MSSSSWLLLSLVAVTAAQSTIEEQAKTFLDKFNHEAEDLFYQSSLASWNYNTNITEENVQNMNNAGDKWSAFLKEQSTLAQMYPLQEIQNLTVKLQLQALQQNGSSVLSEDKSKRLNTILNTMSTIYSTGKVCNPDNPQECLLLEPGLNEIMANSLDYNERLWAWESWRSEVGKQLRPLYEEYVVLKNEMARANHYEDYGDYWRGDYEVNGVDGYDYSRGQLIEDVEHTFEEIKPLYEHLHAYVRAKLMNAYPSYISPIGCLPAHLLGDMWGRFWTNLYSLTVPFGQKPNIDVTDAMVDQAWDAQRIFKEAEKFFVSVGLPNMTQGFWENSMLTDPGNVQKAVCHPTAWDLGKGDFRILMCTKVTMDDFLTAHHEMGHIQYDMAYAAQPFLLRNGANEGFHEAVGEIMSLSAATPKHLKSIGLLSPDFQEDNETEINFLLKQALTIVGTLPFTYMLEKWRWMVFKGEIPKDQWMKKWWEMKREIVGVVEPVPHDETYCDPASLFHVSNDYSFIRYYTRTLYQFQFQEALCQAAKHEGPLHKCDISNSTEAGQKLFNMLRLGKSEPWTLALENVVGAKNMNVRPLLNYFEPLFTWLKDQNKNSFVGWSTDWSPYADQSIKVRISLKSALGDKAYEWNDNEMYLFRSSVAYAMRQYFLKVKNQMILFGEEDVRVANLKPRISFNFFVTAPKNVSDIIPRTEVEKAIRMSRSRINDAFRLNDNSLEFLGIQPTLGPPNQPPVSIWLIVFGVVMGVIVVGIVILIFTGIRDRKKKNKARSGENPYASIDISKGENNPGFQNTDDVQTSF']"
      ]
     },
     "execution_count": 9,
     "metadata": {},
     "output_type": "execute_result"
    }
   ],
   "source": [
    "gget.seq(\"ENSG00000130234\", translate=True)"
   ]
  },
  {
   "cell_type": "code",
   "execution_count": null,
   "id": "f0fc5023",
   "metadata": {},
   "outputs": [],
   "source": []
  },
  {
   "cell_type": "code",
   "execution_count": null,
   "id": "4b316874",
   "metadata": {},
   "outputs": [],
   "source": []
  },
  {
   "cell_type": "code",
   "execution_count": null,
   "id": "d90592f4",
   "metadata": {},
   "outputs": [],
   "source": []
  },
  {
   "cell_type": "code",
   "execution_count": null,
   "id": "05fb1d5b",
   "metadata": {},
   "outputs": [],
   "source": []
  },
  {
   "cell_type": "markdown",
   "id": "c7dca7e0",
   "metadata": {},
   "source": [
    "## 应用\n",
    "\n",
    "已知基因名称，获取蛋白序列：\n",
    "\n",
    "+ 1. 基因名称转换\n",
    "+ 2. 获取蛋白序列"
   ]
  },
  {
   "cell_type": "markdown",
   "id": "10e4685d",
   "metadata": {},
   "source": [
    "### 支持的物种\n",
    "\n",
    "+ 'human'\n",
    "+ 'mouse'\n",
    "+ [其他](http://ftp.ensembl.org/pub/release-106/mysql/),比如猴子：macaca_fascicularis_core_106_6/"
   ]
  },
  {
   "cell_type": "markdown",
   "id": "3c58656c",
   "metadata": {},
   "source": [
    "### 获取Ensemble ID"
   ]
  },
  {
   "cell_type": "code",
   "execution_count": 8,
   "id": "40c19fdc",
   "metadata": {},
   "outputs": [
    {
     "name": "stderr",
     "output_type": "stream",
     "text": [
      "Thu Jul  7 13:18:54 2022 INFO Fetching results from database: homo_sapiens_core_106_38\n",
      "Thu Jul  7 13:18:56 2022 INFO Total matches found: 4.\n",
      "Thu Jul  7 13:18:56 2022 INFO Query time: 7.61 seconds.\n"
     ]
    }
   ],
   "source": [
    "test=gget.search([\"PMM2\"], \"homo_sapiens\")"
   ]
  },
  {
   "cell_type": "code",
   "execution_count": 9,
   "id": "f5e2c295",
   "metadata": {},
   "outputs": [
    {
     "data": {
      "text/html": [
       "<div>\n",
       "<style scoped>\n",
       "    .dataframe tbody tr th:only-of-type {\n",
       "        vertical-align: middle;\n",
       "    }\n",
       "\n",
       "    .dataframe tbody tr th {\n",
       "        vertical-align: top;\n",
       "    }\n",
       "\n",
       "    .dataframe thead th {\n",
       "        text-align: right;\n",
       "    }\n",
       "</style>\n",
       "<table border=\"1\" class=\"dataframe\">\n",
       "  <thead>\n",
       "    <tr style=\"text-align: right;\">\n",
       "      <th></th>\n",
       "      <th>ensembl_id</th>\n",
       "      <th>gene_name</th>\n",
       "      <th>ensembl_description</th>\n",
       "      <th>ext_ref_description</th>\n",
       "      <th>biotype</th>\n",
       "      <th>url</th>\n",
       "    </tr>\n",
       "  </thead>\n",
       "  <tbody>\n",
       "    <tr>\n",
       "      <th>0</th>\n",
       "      <td>ENSG00000140650</td>\n",
       "      <td>PMM2</td>\n",
       "      <td>phosphomannomutase 2 [Source:HGNC Symbol;Acc:H...</td>\n",
       "      <td>phosphomannomutase 2</td>\n",
       "      <td>protein_coding</td>\n",
       "      <td>https://uswest.ensembl.org/homo_sapiens/Gene/S...</td>\n",
       "    </tr>\n",
       "    <tr>\n",
       "      <th>1</th>\n",
       "      <td>ENSG00000260350</td>\n",
       "      <td>None</td>\n",
       "      <td>novel transcript, antisense to PMM2</td>\n",
       "      <td>None</td>\n",
       "      <td>lncRNA</td>\n",
       "      <td>https://uswest.ensembl.org/homo_sapiens/Gene/S...</td>\n",
       "    </tr>\n",
       "    <tr>\n",
       "      <th>2</th>\n",
       "      <td>ENSG00000265038</td>\n",
       "      <td>PMM2P1</td>\n",
       "      <td>phosphomannomutase 2 pseudogene 1 [Source:HGNC...</td>\n",
       "      <td>phosphomannomutase 2 pseudogene 1</td>\n",
       "      <td>processed_pseudogene</td>\n",
       "      <td>https://uswest.ensembl.org/homo_sapiens/Gene/S...</td>\n",
       "    </tr>\n",
       "    <tr>\n",
       "      <th>3</th>\n",
       "      <td>ENSG00000267116</td>\n",
       "      <td>PMM2P2</td>\n",
       "      <td>phosphomannomutase 2 pseudogene 2 [Source:HGNC...</td>\n",
       "      <td>phosphomannomutase 2 pseudogene 2</td>\n",
       "      <td>processed_pseudogene</td>\n",
       "      <td>https://uswest.ensembl.org/homo_sapiens/Gene/S...</td>\n",
       "    </tr>\n",
       "  </tbody>\n",
       "</table>\n",
       "</div>"
      ],
      "text/plain": [
       "        ensembl_id gene_name  \\\n",
       "0  ENSG00000140650      PMM2   \n",
       "1  ENSG00000260350      None   \n",
       "2  ENSG00000265038    PMM2P1   \n",
       "3  ENSG00000267116    PMM2P2   \n",
       "\n",
       "                                 ensembl_description  \\\n",
       "0  phosphomannomutase 2 [Source:HGNC Symbol;Acc:H...   \n",
       "1                novel transcript, antisense to PMM2   \n",
       "2  phosphomannomutase 2 pseudogene 1 [Source:HGNC...   \n",
       "3  phosphomannomutase 2 pseudogene 2 [Source:HGNC...   \n",
       "\n",
       "                 ext_ref_description               biotype  \\\n",
       "0               phosphomannomutase 2        protein_coding   \n",
       "1                               None                lncRNA   \n",
       "2  phosphomannomutase 2 pseudogene 1  processed_pseudogene   \n",
       "3  phosphomannomutase 2 pseudogene 2  processed_pseudogene   \n",
       "\n",
       "                                                 url  \n",
       "0  https://uswest.ensembl.org/homo_sapiens/Gene/S...  \n",
       "1  https://uswest.ensembl.org/homo_sapiens/Gene/S...  \n",
       "2  https://uswest.ensembl.org/homo_sapiens/Gene/S...  \n",
       "3  https://uswest.ensembl.org/homo_sapiens/Gene/S...  "
      ]
     },
     "execution_count": 9,
     "metadata": {},
     "output_type": "execute_result"
    }
   ],
   "source": [
    "test"
   ]
  },
  {
   "cell_type": "markdown",
   "id": "b0394c7d",
   "metadata": {},
   "source": [
    "### 获取序列信息"
   ]
  },
  {
   "cell_type": "code",
   "execution_count": 10,
   "id": "017c8090",
   "metadata": {},
   "outputs": [
    {
     "name": "stderr",
     "output_type": "stream",
     "text": [
      "Thu Jul  7 13:19:15 2022 INFO Requesting amino acid sequence of the canonical transcript ENST00000268261 of gene ENSG00000140650 from UniProt.\n"
     ]
    }
   ],
   "source": [
    "seqs=gget.seq(\"ENSG00000140650\", translate=True)"
   ]
  },
  {
   "cell_type": "markdown",
   "id": "7fcd55fc",
   "metadata": {},
   "source": [
    "### 输出序列信息"
   ]
  },
  {
   "cell_type": "code",
   "execution_count": 2,
   "id": "dee1eeb7",
   "metadata": {},
   "outputs": [],
   "source": [
    "import re"
   ]
  },
  {
   "cell_type": "code",
   "execution_count": 40,
   "id": "91b2a3dc",
   "metadata": {},
   "outputs": [],
   "source": [
    "with open(\"test.fa\",\"w\") as f:\n",
    "    for l in seqs:\n",
    "        if re.match(\">\",l):\n",
    "            l=re.sub(\".*gene\\\\_name\\\\:\\\\s(.*)\\\\sorganism\\\\:\\\\s(.*)\\\\ssequence.*\",\">\\\\1_\\\\2\",l)\n",
    "            f.writelines(l+\"\\n\")\n",
    "        else:\n",
    "            f.writelines(l)\n",
    "f.close()"
   ]
  },
  {
   "cell_type": "code",
   "execution_count": 3,
   "id": "1f77b869",
   "metadata": {},
   "outputs": [],
   "source": [
    "import re,gget\n",
    "def getSeq(ensembl):\n",
    "    seqs=gget.seq(ensembl, translate=True)\n",
    "    geneName=re.sub(\".*gene\\\\_name\\\\:\\\\s(.*)\\\\sorganism\\\\:\\\\s(.*)\\\\ssequence.*\",\"\\\\1\",seqs[0])\n",
    "    with open(geneName+\".fa\",\"w\") as f:\n",
    "        for l in seqs:\n",
    "            if re.match(\">\",l):\n",
    "                l=re.sub(\".*gene\\\\_name\\\\:\\\\s(.*)\\\\sorganism\\\\:\\\\s(.*)\\\\ssequence.*\",\">\\\\1_\\\\2\",l)\n",
    "                f.writelines(l+\"\\n\")\n",
    "            else:\n",
    "                f.writelines(l)\n",
    "    f.close()"
   ]
  },
  {
   "cell_type": "code",
   "execution_count": 44,
   "id": "fabe3b4c",
   "metadata": {},
   "outputs": [
    {
     "name": "stderr",
     "output_type": "stream",
     "text": [
      "Thu Jul  7 13:57:25 2022 INFO Requesting amino acid sequence of the canonical transcript ENST00000268261 of gene ENSG00000140650 from UniProt.\n"
     ]
    }
   ],
   "source": [
    "getSeq(\"ENSG00000140650\")"
   ]
  },
  {
   "cell_type": "markdown",
   "id": "e8983ea1",
   "metadata": {},
   "source": [
    "## 应用20220728\n",
    "\n",
    "寻找一下`mus`基因的氨基酸信息：\n",
    "\n",
    "\"ENSMUSG00000023262\" \"ENSMUSG00000022219\" \"ENSMUSG00000034226\" \"ENSMUSG00000038704\" \"ENSMUSG00000024675\""
   ]
  },
  {
   "cell_type": "code",
   "execution_count": 3,
   "id": "202e7521",
   "metadata": {},
   "outputs": [],
   "source": [
    "mus_ENSG=[\"ENSMUSG00000023262\",\"ENSMUSG00000022219\",\"ENSMUSG00000034226\",\"ENSMUSG00000038704\",\"ENSMUSG00000024675\"]"
   ]
  },
  {
   "cell_type": "code",
   "execution_count": 5,
   "id": "509c538e",
   "metadata": {},
   "outputs": [
    {
     "name": "stderr",
     "output_type": "stream",
     "text": [
      "Thu Jul 28 11:14:09 2022 INFO Requesting amino acid sequence of the canonical transcript ENSMUST00000024031 of gene ENSMUSG00000023262 from UniProt.\n",
      "Thu Jul 28 11:14:11 2022 WARNING No reviewed UniProt results were found for ID ENSMUST00000024031. Returning all unreviewed results.\n"
     ]
    },
    {
     "name": "stdout",
     "output_type": "stream",
     "text": [
      "ENSMUSG00000023262\n"
     ]
    },
    {
     "name": "stderr",
     "output_type": "stream",
     "text": [
      "Thu Jul 28 11:14:18 2022 INFO Requesting amino acid sequence of the canonical transcript ENSMUST00000001497 of gene ENSMUSG00000022219 from UniProt.\n"
     ]
    },
    {
     "name": "stdout",
     "output_type": "stream",
     "text": [
      "ENSMUSG00000022219\n"
     ]
    },
    {
     "name": "stderr",
     "output_type": "stream",
     "text": [
      "Thu Jul 28 11:14:26 2022 INFO Requesting amino acid sequence of the canonical transcript ENSMUST00000037360 of gene ENSMUSG00000034226 from UniProt.\n"
     ]
    },
    {
     "name": "stdout",
     "output_type": "stream",
     "text": [
      "ENSMUSG00000034226\n"
     ]
    },
    {
     "name": "stderr",
     "output_type": "stream",
     "text": [
      "Thu Jul 28 11:14:34 2022 INFO Requesting amino acid sequence of the canonical transcript ENSMUST00000035929 of gene ENSMUSG00000038704 from UniProt.\n"
     ]
    },
    {
     "name": "stdout",
     "output_type": "stream",
     "text": [
      "ENSMUSG00000038704\n"
     ]
    },
    {
     "name": "stderr",
     "output_type": "stream",
     "text": [
      "Thu Jul 28 11:14:44 2022 INFO Requesting amino acid sequence of the canonical transcript ENSMUST00000072729 of gene ENSMUSG00000024675 from UniProt.\n",
      "Thu Jul 28 11:14:46 2022 WARNING No reviewed UniProt results were found for ID ENSMUST00000072729. Returning all unreviewed results.\n"
     ]
    },
    {
     "name": "stdout",
     "output_type": "stream",
     "text": [
      "ENSMUSG00000024675\n"
     ]
    }
   ],
   "source": [
    "for i in mus_ENSG:\n",
    "    getSeq(i)\n",
    "    print(i)"
   ]
  },
  {
   "cell_type": "code",
   "execution_count": 6,
   "id": "eb02d748",
   "metadata": {},
   "outputs": [],
   "source": [
    "humn_ENSG=[\"ENSG00000243989\",\"ENSG00000136305\",\"ENSG00000104140\",\"ENSG00000204653\"]"
   ]
  },
  {
   "cell_type": "code",
   "execution_count": 7,
   "id": "bc498e74",
   "metadata": {},
   "outputs": [
    {
     "name": "stderr",
     "output_type": "stream",
     "text": [
      "Thu Jul 28 12:17:42 2022 INFO Requesting amino acid sequence of the canonical transcript ENST00000636358 of gene ENSG00000243989 from UniProt.\n"
     ]
    },
    {
     "name": "stdout",
     "output_type": "stream",
     "text": [
      "ENSG00000243989\n"
     ]
    },
    {
     "name": "stderr",
     "output_type": "stream",
     "text": [
      "Thu Jul 28 12:17:51 2022 INFO Requesting amino acid sequence of the canonical transcript ENST00000554411 of gene ENSG00000136305 from UniProt.\n"
     ]
    },
    {
     "name": "stdout",
     "output_type": "stream",
     "text": [
      "ENSG00000136305\n"
     ]
    },
    {
     "name": "stderr",
     "output_type": "stream",
     "text": [
      "Thu Jul 28 12:17:59 2022 INFO Requesting amino acid sequence of the canonical transcript ENST00000220507 of gene ENSG00000104140 from UniProt.\n"
     ]
    },
    {
     "name": "stdout",
     "output_type": "stream",
     "text": [
      "ENSG00000104140\n"
     ]
    },
    {
     "name": "stderr",
     "output_type": "stream",
     "text": [
      "Thu Jul 28 12:18:07 2022 INFO Requesting amino acid sequence of the canonical transcript ENST00000389208 of gene ENSG00000204653 from UniProt.\n"
     ]
    },
    {
     "name": "stdout",
     "output_type": "stream",
     "text": [
      "ENSG00000204653\n"
     ]
    }
   ],
   "source": [
    "for i in humn_ENSG:\n",
    "    getSeq(i)\n",
    "    print(i)"
   ]
  },
  {
   "cell_type": "markdown",
   "id": "2337e10a",
   "metadata": {},
   "source": [
    "## 应用20220812\n",
    "\n",
    "\"ENSG00000265972\" \"ENSG00000120129\" \"ENSG00000059804\" \"ENSG00000112715\" \"ENSG00000075426\" \"ENSG00000152518\""
   ]
  },
  {
   "cell_type": "markdown",
   "id": "cc821a1d",
   "metadata": {},
   "source": [
    "### 人源"
   ]
  },
  {
   "cell_type": "code",
   "execution_count": 1,
   "id": "6cd2e605",
   "metadata": {},
   "outputs": [],
   "source": [
    "human_ENSG=[\n",
    "    \"ENSG00000265972\",\n",
    "    \"ENSG00000120129\",\n",
    "    \"ENSG00000059804\",\n",
    "    \"ENSG00000112715\",\n",
    "    \"ENSG00000075426\",\n",
    "    \"ENSG00000152518\"\n",
    "]"
   ]
  },
  {
   "cell_type": "code",
   "execution_count": 4,
   "id": "d5eb2b74",
   "metadata": {},
   "outputs": [
    {
     "name": "stderr",
     "output_type": "stream",
     "text": [
      "Fri Aug 12 10:45:56 2022 INFO Requesting amino acid sequence of the canonical transcript ENST00000582401 of gene ENSG00000265972 from UniProt.\n"
     ]
    },
    {
     "name": "stdout",
     "output_type": "stream",
     "text": [
      "ENSG00000265972\n"
     ]
    },
    {
     "name": "stderr",
     "output_type": "stream",
     "text": [
      "Fri Aug 12 10:46:05 2022 INFO Requesting amino acid sequence of the canonical transcript ENST00000239223 of gene ENSG00000120129 from UniProt.\n"
     ]
    },
    {
     "name": "stdout",
     "output_type": "stream",
     "text": [
      "ENSG00000120129\n"
     ]
    },
    {
     "name": "stderr",
     "output_type": "stream",
     "text": [
      "Fri Aug 12 10:46:15 2022 INFO Requesting amino acid sequence of the canonical transcript ENST00000075120 of gene ENSG00000059804 from UniProt.\n"
     ]
    },
    {
     "name": "stdout",
     "output_type": "stream",
     "text": [
      "ENSG00000059804\n"
     ]
    },
    {
     "name": "stderr",
     "output_type": "stream",
     "text": [
      "Fri Aug 12 10:46:27 2022 INFO Requesting amino acid sequence of the canonical transcript ENST00000672860 of gene ENSG00000112715 from UniProt.\n"
     ]
    },
    {
     "name": "stdout",
     "output_type": "stream",
     "text": [
      "ENSG00000112715\n"
     ]
    },
    {
     "name": "stderr",
     "output_type": "stream",
     "text": [
      "Fri Aug 12 10:46:35 2022 INFO Requesting amino acid sequence of the canonical transcript ENST00000264716 of gene ENSG00000075426 from UniProt.\n"
     ]
    },
    {
     "name": "stdout",
     "output_type": "stream",
     "text": [
      "ENSG00000075426\n"
     ]
    },
    {
     "name": "stderr",
     "output_type": "stream",
     "text": [
      "Fri Aug 12 10:46:43 2022 INFO Requesting amino acid sequence of the canonical transcript ENST00000282388 of gene ENSG00000152518 from UniProt.\n"
     ]
    },
    {
     "name": "stdout",
     "output_type": "stream",
     "text": [
      "ENSG00000152518\n"
     ]
    }
   ],
   "source": [
    "for i in human_ENSG:\n",
    "    getSeq(i)\n",
    "    print(i)"
   ]
  },
  {
   "cell_type": "markdown",
   "id": "211e65f0",
   "metadata": {},
   "source": [
    "### 鼠源"
   ]
  },
  {
   "cell_type": "code",
   "execution_count": 5,
   "id": "3979c012",
   "metadata": {},
   "outputs": [],
   "source": [
    "mus_ENSG=[\n",
    "    \"ENSMUSG00000038393\",\n",
    "    \"ENSMUSG00000024190\",\n",
    "    \"ENSMUSG00000003153\",\n",
    "    \"ENSMUSG00000023951\",\n",
    "    \"ENSMUSG00000029135\",\n",
    "    \"ENSMUSG00000045817\"\n",
    "]"
   ]
  },
  {
   "cell_type": "code",
   "execution_count": 6,
   "id": "22b0d64a",
   "metadata": {},
   "outputs": [
    {
     "name": "stderr",
     "output_type": "stream",
     "text": [
      "Fri Aug 12 10:56:27 2022 INFO Requesting amino acid sequence of the canonical transcript ENSMUST00000074519 of gene ENSMUSG00000038393 from UniProt.\n"
     ]
    },
    {
     "name": "stdout",
     "output_type": "stream",
     "text": [
      "ENSMUSG00000038393\n"
     ]
    },
    {
     "name": "stderr",
     "output_type": "stream",
     "text": [
      "Fri Aug 12 10:56:41 2022 INFO Requesting amino acid sequence of the canonical transcript ENSMUST00000025025 of gene ENSMUSG00000024190 from UniProt.\n"
     ]
    },
    {
     "name": "stdout",
     "output_type": "stream",
     "text": [
      "ENSMUSG00000024190\n"
     ]
    },
    {
     "name": "stderr",
     "output_type": "stream",
     "text": [
      "Fri Aug 12 10:56:54 2022 INFO Requesting amino acid sequence of the canonical transcript ENSMUST00000032476 of gene ENSMUSG00000003153 from UniProt.\n"
     ]
    },
    {
     "name": "stdout",
     "output_type": "stream",
     "text": [
      "ENSMUSG00000003153\n"
     ]
    },
    {
     "name": "stderr",
     "output_type": "stream",
     "text": [
      "Fri Aug 12 10:57:06 2022 INFO Requesting amino acid sequence of the canonical transcript ENSMUST00000142351 of gene ENSMUSG00000023951 from UniProt.\n",
      "Fri Aug 12 10:57:10 2022 WARNING No reviewed UniProt results were found for ID ENSMUST00000142351. Returning all unreviewed results.\n"
     ]
    },
    {
     "name": "stdout",
     "output_type": "stream",
     "text": [
      "ENSMUSG00000023951\n"
     ]
    },
    {
     "name": "stderr",
     "output_type": "stream",
     "text": [
      "Fri Aug 12 10:57:19 2022 INFO Requesting amino acid sequence of the canonical transcript ENSMUST00000031017 of gene ENSMUSG00000029135 from UniProt.\n"
     ]
    },
    {
     "name": "stdout",
     "output_type": "stream",
     "text": [
      "ENSMUSG00000029135\n"
     ]
    },
    {
     "name": "stderr",
     "output_type": "stream",
     "text": [
      "Fri Aug 12 10:57:27 2022 INFO Requesting amino acid sequence of the canonical transcript ENSMUST00000060366 of gene ENSMUSG00000045817 from UniProt.\n"
     ]
    },
    {
     "name": "stdout",
     "output_type": "stream",
     "text": [
      "ENSMUSG00000045817\n"
     ]
    }
   ],
   "source": [
    "for i in mus_ENSG:\n",
    "    getSeq(i)\n",
    "    print(i)"
   ]
  },
  {
   "cell_type": "markdown",
   "id": "d3977b91",
   "metadata": {},
   "source": [
    "## 应用20220908"
   ]
  },
  {
   "cell_type": "code",
   "execution_count": 1,
   "id": "123063eb",
   "metadata": {},
   "outputs": [],
   "source": [
    "import re,gget\n",
    "def getSeq(ensembl):\n",
    "    seqs=gget.seq(ensembl, translate=True)\n",
    "    geneName=re.sub(\".*gene\\\\_name\\\\:\\\\s(.*)\\\\sorganism\\\\:\\\\s(.*)\\\\ssequence.*\",\"\\\\1\",seqs[0])\n",
    "    with open(geneName+\".fa\",\"w\") as f:\n",
    "        for l in seqs:\n",
    "            if re.match(\">\",l):\n",
    "                l=re.sub(\".*gene\\\\_name\\\\:\\\\s(.*)\\\\sorganism\\\\:\\\\s(.*)\\\\ssequence.*\",\">\\\\1_\\\\2\",l)\n",
    "                f.writelines(l+\"\\n\")\n",
    "            else:\n",
    "                f.writelines(l)\n",
    "    f.close()"
   ]
  },
  {
   "cell_type": "code",
   "execution_count": 2,
   "id": "76503a73",
   "metadata": {},
   "outputs": [
    {
     "name": "stderr",
     "output_type": "stream",
     "text": [
      "Thu Sep  8 13:52:19 2022 INFO Requesting amino acid sequence of the canonical transcript ENST00000423893 of gene ENSG00000136487 from UniProt.\n"
     ]
    },
    {
     "name": "stdout",
     "output_type": "stream",
     "text": [
      "ENSG00000136487\n"
     ]
    },
    {
     "name": "stderr",
     "output_type": "stream",
     "text": [
      "Thu Sep  8 13:52:30 2022 INFO Requesting amino acid sequence of the canonical transcript ENST00000370693 of gene ENSG00000112208 from UniProt.\n"
     ]
    },
    {
     "name": "stdout",
     "output_type": "stream",
     "text": [
      "ENSG00000112208\n"
     ]
    },
    {
     "name": "stderr",
     "output_type": "stream",
     "text": [
      "Thu Sep  8 13:52:37 2022 INFO Requesting amino acid sequence of the canonical transcript ENST00000274026 of gene ENSG00000145386 from UniProt.\n"
     ]
    },
    {
     "name": "stdout",
     "output_type": "stream",
     "text": [
      "ENSG00000145386\n"
     ]
    },
    {
     "name": "stderr",
     "output_type": "stream",
     "text": [
      "Thu Sep  8 13:52:46 2022 INFO Requesting amino acid sequence of the canonical transcript ENST00000356921 of gene ENSG00000100678 from UniProt.\n"
     ]
    },
    {
     "name": "stdout",
     "output_type": "stream",
     "text": [
      "ENSG00000100678\n"
     ]
    },
    {
     "name": "stderr",
     "output_type": "stream",
     "text": [
      "Thu Sep  8 13:52:58 2022 INFO Requesting amino acid sequence of the canonical transcript ENST00000629765 of gene ENSG00000140538 from UniProt.\n"
     ]
    },
    {
     "name": "stdout",
     "output_type": "stream",
     "text": [
      "ENSG00000140538\n"
     ]
    },
    {
     "name": "stderr",
     "output_type": "stream",
     "text": [
      "Thu Sep  8 13:53:08 2022 INFO Requesting amino acid sequence of the canonical transcript ENST00000305447 of gene ENSG00000168959 from UniProt.\n"
     ]
    },
    {
     "name": "stdout",
     "output_type": "stream",
     "text": [
      "ENSG00000168959\n"
     ]
    }
   ],
   "source": [
    "human_ENSG=[\n",
    "    \"ENSG00000136487\",\n",
    "    \"ENSG00000112208\",\n",
    "    \"ENSG00000145386\",\n",
    "    \"ENSG00000100678\",\n",
    "    \"ENSG00000140538\",\n",
    "    \"ENSG00000168959\"\n",
    "]\n",
    "for i in human_ENSG:\n",
    "    getSeq(i)\n",
    "    print(i)"
   ]
  },
  {
   "cell_type": "code",
   "execution_count": 3,
   "id": "0c166e4e",
   "metadata": {},
   "outputs": [
    {
     "name": "stderr",
     "output_type": "stream",
     "text": [
      "Thu Sep  8 13:58:09 2022 INFO Requesting amino acid sequence of the canonical transcript ENSMUST00000044691 of gene ENSMUSG00000042215 from UniProt.\n"
     ]
    },
    {
     "name": "stdout",
     "output_type": "stream",
     "text": [
      "ENSMUSG00000042215\n"
     ]
    },
    {
     "name": "stderr",
     "output_type": "stream",
     "text": [
      "Thu Sep  8 13:58:25 2022 INFO Requesting amino acid sequence of the canonical transcript ENSMUST00000029270 of gene ENSMUSG00000027715 from UniProt.\n"
     ]
    },
    {
     "name": "stdout",
     "output_type": "stream",
     "text": [
      "ENSMUSG00000027715\n"
     ]
    },
    {
     "name": "stderr",
     "output_type": "stream",
     "text": [
      "Thu Sep  8 13:58:41 2022 INFO Requesting amino acid sequence of the canonical transcript ENSMUST00000182208 of gene ENSMUSG00000079055 from UniProt.\n"
     ]
    },
    {
     "name": "stdout",
     "output_type": "stream",
     "text": [
      "ENSMUSG00000079055\n"
     ]
    },
    {
     "name": "stderr",
     "output_type": "stream",
     "text": [
      "Thu Sep  8 13:58:57 2022 INFO Requesting amino acid sequence of the canonical transcript ENSMUST00000195262 of gene ENSMUSG00000059146 from UniProt.\n",
      "Thu Sep  8 13:58:59 2022 WARNING No reviewed UniProt results were found for ID ENSMUST00000195262. Returning all unreviewed results.\n"
     ]
    },
    {
     "name": "stdout",
     "output_type": "stream",
     "text": [
      "ENSMUSG00000059146\n"
     ]
    },
    {
     "name": "stderr",
     "output_type": "stream",
     "text": [
      "Thu Sep  8 13:59:13 2022 INFO Requesting amino acid sequence of the canonical transcript ENSMUST00000155358 of gene ENSMUSG00000049583 from UniProt.\n"
     ]
    },
    {
     "name": "stdout",
     "output_type": "stream",
     "text": [
      "ENSMUSG00000049583\n"
     ]
    }
   ],
   "source": [
    "mus_ENSG=[\n",
    "\"ENSMUSG00000042215\",\n",
    "    \"ENSMUSG00000027715\",\n",
    "    \"ENSMUSG00000079055\",\n",
    "    \"ENSMUSG00000059146\",\n",
    "    \"ENSMUSG00000049583\"\n",
    "]\n",
    "for i in mus_ENSG:\n",
    "    getSeq(i)\n",
    "    print(i)"
   ]
  },
  {
   "cell_type": "markdown",
   "id": "9b5d937f",
   "metadata": {},
   "source": [
    "## 应用20221020"
   ]
  },
  {
   "cell_type": "code",
   "execution_count": 1,
   "id": "1ba34aba",
   "metadata": {},
   "outputs": [],
   "source": [
    "import re,gget\n",
    "def getSeq(ensembl):\n",
    "    seqs=gget.seq(ensembl, translate=True)\n",
    "    geneName=re.sub(\".*gene\\\\_name\\\\:\\\\s(.*)\\\\sorganism\\\\:\\\\s(.*)\\\\ssequence.*\",\"\\\\1\",seqs[0])\n",
    "    with open(geneName+\".fa\",\"w\") as f:\n",
    "        for l in seqs:\n",
    "            if re.match(\">\",l):\n",
    "                l=re.sub(\".*gene\\\\_name\\\\:\\\\s(.*)\\\\sorganism\\\\:\\\\s(.*)\\\\ssequence.*\",\">\\\\1_\\\\2\",l)\n",
    "                f.writelines(l+\"\\n\")\n",
    "            else:\n",
    "                f.writelines(l)\n",
    "    f.close()"
   ]
  },
  {
   "cell_type": "code",
   "execution_count": 2,
   "id": "e2309271",
   "metadata": {
    "scrolled": false
   },
   "outputs": [
    {
     "name": "stderr",
     "output_type": "stream",
     "text": [
      "Thu Oct 20 16:41:45 2022 INFO Requesting amino acid sequence of the canonical transcript ENST00000227507 of gene ENSG00000110092 from UniProt.\n"
     ]
    },
    {
     "name": "stdout",
     "output_type": "stream",
     "text": [
      "ENSG00000110092\n"
     ]
    },
    {
     "name": "stderr",
     "output_type": "stream",
     "text": [
      "Thu Oct 20 16:41:56 2022 INFO Requesting amino acid sequence of the canonical transcript ENST00000304494 of gene ENSG00000147889 from UniProt.\n"
     ]
    },
    {
     "name": "stdout",
     "output_type": "stream",
     "text": [
      "ENSG00000147889\n"
     ]
    },
    {
     "name": "stderr",
     "output_type": "stream",
     "text": [
      "Thu Oct 20 16:42:12 2022 INFO Requesting amino acid sequence of the canonical transcript ENST00000371085 of gene ENSG00000087460 from UniProt.\n"
     ]
    },
    {
     "name": "stdout",
     "output_type": "stream",
     "text": [
      "ENSG00000087460\n"
     ]
    }
   ],
   "source": [
    "human_ENSG=[\n",
    "    \"ENSG00000110092\",\"ENSG00000147889\",\"ENSG00000087460\"\n",
    "]\n",
    "for i in human_ENSG:\n",
    "    getSeq(i)\n",
    "    print(i)"
   ]
  },
  {
   "cell_type": "code",
   "execution_count": 3,
   "id": "6db9c6e4",
   "metadata": {},
   "outputs": [
    {
     "name": "stderr",
     "output_type": "stream",
     "text": [
      "Thu Oct 20 16:43:37 2022 INFO Requesting amino acid sequence of the canonical transcript ENSMUST00000093962 of gene ENSMUSG00000070348 from UniProt.\n"
     ]
    },
    {
     "name": "stdout",
     "output_type": "stream",
     "text": [
      "ENSMUSG00000070348\n"
     ]
    },
    {
     "name": "stderr",
     "output_type": "stream",
     "text": [
      "Thu Oct 20 16:43:45 2022 INFO Requesting amino acid sequence of the canonical transcript ENSMUST00000107131 of gene ENSMUSG00000044303 from UniProt.\n"
     ]
    },
    {
     "name": "stdout",
     "output_type": "stream",
     "text": [
      "ENSMUSG00000044303\n"
     ]
    },
    {
     "name": "stderr",
     "output_type": "stream",
     "text": [
      "Thu Oct 20 16:43:57 2022 INFO Requesting amino acid sequence of the canonical transcript ENSMUST00000185956 of gene ENSMUSG00000027523 from UniProt.\n"
     ]
    },
    {
     "name": "stdout",
     "output_type": "stream",
     "text": [
      "ENSMUSG00000027523\n"
     ]
    }
   ],
   "source": [
    "mus_ENSG=[\n",
    "\"ENSMUSG00000070348\",\n",
    "    \"ENSMUSG00000044303\",\n",
    "    \"ENSMUSG00000027523\"\n",
    "]\n",
    "for i in mus_ENSG:\n",
    "    getSeq(i)\n",
    "    print(i)"
   ]
  },
  {
   "cell_type": "markdown",
   "id": "9bb87e75",
   "metadata": {},
   "source": [
    "## 应用20221103"
   ]
  },
  {
   "cell_type": "code",
   "execution_count": 1,
   "id": "4cc8bc96",
   "metadata": {},
   "outputs": [],
   "source": [
    "import re,gget\n",
    "def getSeq(ensembl):\n",
    "    seqs=gget.seq(ensembl, translate=True)\n",
    "    geneName=re.sub(\".*gene\\\\_name\\\\:\\\\s(.*)\\\\sorganism\\\\:\\\\s(.*)\\\\ssequence.*\",\"\\\\1\",seqs[0])\n",
    "    with open(geneName+\".fa\",\"w\") as f:\n",
    "        for l in seqs:\n",
    "            if re.match(\">\",l):\n",
    "                l=re.sub(\".*gene\\\\_name\\\\:\\\\s(.*)\\\\sorganism\\\\:\\\\s(.*)\\\\ssequence.*\",\">\\\\1_\\\\2\",l)\n",
    "                f.writelines(l+\"\\n\")\n",
    "            else:\n",
    "                f.writelines(l)\n",
    "    f.close()"
   ]
  },
  {
   "cell_type": "code",
   "execution_count": 3,
   "id": "c7b9f84e",
   "metadata": {},
   "outputs": [
    {
     "name": "stderr",
     "output_type": "stream",
     "text": [
      "Thu Nov  3 12:44:42 2022 INFO Requesting amino acid sequence of the canonical transcript ENST00000425241 of gene ENSG00000177463 from UniProt.\n"
     ]
    },
    {
     "name": "stdout",
     "output_type": "stream",
     "text": [
      "ENSG00000177463\n"
     ]
    },
    {
     "name": "stderr",
     "output_type": "stream",
     "text": [
      "Thu Nov  3 12:44:51 2022 INFO Requesting amino acid sequence of the canonical transcript ENST00000371173 of gene ENSG00000124256 from UniProt.\n"
     ]
    },
    {
     "name": "stdout",
     "output_type": "stream",
     "text": [
      "ENSG00000124256\n"
     ]
    },
    {
     "name": "stderr",
     "output_type": "stream",
     "text": [
      "Thu Nov  3 12:45:01 2022 INFO Requesting amino acid sequence of the canonical transcript ENST00000259808 of gene ENSG00000137275 from UniProt.\n"
     ]
    },
    {
     "name": "stdout",
     "output_type": "stream",
     "text": [
      "ENSG00000137275\n"
     ]
    },
    {
     "name": "stderr",
     "output_type": "stream",
     "text": [
      "Thu Nov  3 12:45:11 2022 INFO Requesting amino acid sequence of the canonical transcript ENST00000673742 of gene ENSG00000064012 from UniProt.\n"
     ]
    },
    {
     "name": "stdout",
     "output_type": "stream",
     "text": [
      "ENSG00000064012\n"
     ]
    },
    {
     "name": "stderr",
     "output_type": "stream",
     "text": [
      "Thu Nov  3 12:45:22 2022 INFO Requesting amino acid sequence of the canonical transcript ENST00000533400 of gene ENSG00000137752 from UniProt.\n"
     ]
    },
    {
     "name": "stdout",
     "output_type": "stream",
     "text": [
      "ENSG00000137752\n"
     ]
    },
    {
     "name": "stderr",
     "output_type": "stream",
     "text": [
      "Thu Nov  3 12:45:31 2022 INFO Requesting amino acid sequence of the canonical transcript ENST00000247470 of gene ENSG00000103490 from UniProt.\n"
     ]
    },
    {
     "name": "stdout",
     "output_type": "stream",
     "text": [
      "ENSG00000103490\n"
     ]
    },
    {
     "name": "stderr",
     "output_type": "stream",
     "text": [
      "Thu Nov  3 12:45:40 2022 INFO Requesting amino acid sequence of the canonical transcript ENST00000336119 of gene ENSG00000162711 from UniProt.\n",
      "Thu Nov  3 12:45:42 2022 WARNING No reviewed UniProt results were found for ID ENST00000336119. Returning all unreviewed results.\n"
     ]
    },
    {
     "name": "stdout",
     "output_type": "stream",
     "text": [
      "ENSG00000162711\n"
     ]
    }
   ],
   "source": [
    "human_ENSG=[\n",
    "    \"ENSG00000177463\",\"ENSG00000124256\",\"ENSG00000137275\",\n",
    "     \"ENSG00000064012\",\"ENSG00000137752\",\"ENSG00000103490\",\n",
    "    \"ENSG00000162711\"\n",
    "]\n",
    "for i in human_ENSG:\n",
    "    getSeq(i)\n",
    "    print(i)"
   ]
  },
  {
   "cell_type": "code",
   "execution_count": 5,
   "id": "a003c4f1",
   "metadata": {},
   "outputs": [
    {
     "name": "stderr",
     "output_type": "stream",
     "text": [
      "Thu Nov  3 12:49:48 2022 INFO Requesting amino acid sequence of the canonical transcript ENSMUST00000113463 of gene ENSMUSG00000005893 from UniProt.\n",
      "Thu Nov  3 12:49:50 2022 WARNING No reviewed UniProt results were found for ID ENSMUST00000113463. Returning all unreviewed results.\n"
     ]
    },
    {
     "name": "stdout",
     "output_type": "stream",
     "text": [
      "ENSMUSG00000005893\n"
     ]
    },
    {
     "name": "stderr",
     "output_type": "stream",
     "text": [
      "Thu Nov  3 12:49:58 2022 INFO Requesting amino acid sequence of the canonical transcript ENSMUST00000029018 of gene ENSMUSG00000027514 from UniProt.\n",
      "Thu Nov  3 12:50:00 2022 WARNING No reviewed UniProt results were found for ID ENSMUST00000029018. Returning all unreviewed results.\n"
     ]
    },
    {
     "name": "stdout",
     "output_type": "stream",
     "text": [
      "ENSMUSG00000027514\n"
     ]
    },
    {
     "name": "stderr",
     "output_type": "stream",
     "text": [
      "Thu Nov  3 12:50:07 2022 INFO Requesting amino acid sequence of the canonical transcript ENSMUST00000167374 of gene ENSMUSG00000021408 from UniProt.\n"
     ]
    },
    {
     "name": "stdout",
     "output_type": "stream",
     "text": [
      "ENSMUSG00000021408\n"
     ]
    },
    {
     "name": "stderr",
     "output_type": "stream",
     "text": [
      "Thu Nov  3 12:50:15 2022 INFO Requesting amino acid sequence of the canonical transcript ENSMUST00000191201 of gene ENSMUSG00000026029 from UniProt.\n",
      "Thu Nov  3 12:50:17 2022 WARNING No reviewed UniProt results were found for ID ENSMUST00000191201. Returning all unreviewed results.\n"
     ]
    },
    {
     "name": "stdout",
     "output_type": "stream",
     "text": [
      "ENSMUSG00000026029\n"
     ]
    },
    {
     "name": "stderr",
     "output_type": "stream",
     "text": [
      "Thu Nov  3 12:50:24 2022 INFO Requesting amino acid sequence of the canonical transcript ENSMUST00000027015 of gene ENSMUSG00000025888 from UniProt.\n"
     ]
    },
    {
     "name": "stdout",
     "output_type": "stream",
     "text": [
      "ENSMUSG00000025888\n"
     ]
    },
    {
     "name": "stderr",
     "output_type": "stream",
     "text": [
      "Thu Nov  3 12:50:32 2022 INFO Requesting amino acid sequence of the canonical transcript ENSMUST00000033056 of gene ENSMUSG00000030793 from UniProt.\n"
     ]
    },
    {
     "name": "stdout",
     "output_type": "stream",
     "text": [
      "ENSMUSG00000030793\n"
     ]
    },
    {
     "name": "stderr",
     "output_type": "stream",
     "text": [
      "Thu Nov  3 12:50:42 2022 INFO Requesting amino acid sequence of the canonical transcript ENSMUST00000101148 of gene ENSMUSG00000032691 from UniProt.\n"
     ]
    },
    {
     "name": "stdout",
     "output_type": "stream",
     "text": [
      "ENSMUSG00000032691\n"
     ]
    }
   ],
   "source": [
    "mus_ENSG=[\n",
    "\"ENSMUSG00000005893\",\"ENSMUSG00000027514\",\"ENSMUSG00000021408\",\n",
    "    \"ENSMUSG00000026029\",\"ENSMUSG00000025888\",\"ENSMUSG00000030793\",\n",
    "    \"ENSMUSG00000032691\"\n",
    "]\n",
    "for i in mus_ENSG:\n",
    "    getSeq(i)\n",
    "    print(i)"
   ]
  },
  {
   "cell_type": "markdown",
   "id": "dcf96df0",
   "metadata": {},
   "source": [
    "## 应用20221108"
   ]
  },
  {
   "cell_type": "code",
   "execution_count": 1,
   "id": "a587fdf5",
   "metadata": {},
   "outputs": [],
   "source": [
    "import re,gget\n",
    "def getSeq(ensembl):\n",
    "    seqs=gget.seq(ensembl, translate=True)\n",
    "    geneName=re.sub(\".*gene\\\\_name\\\\:\\\\s(.*)\\\\sorganism\\\\:\\\\s(.*)\\\\ssequence.*\",\"\\\\1\",seqs[0])\n",
    "    with open(geneName+\".fa\",\"w\") as f:\n",
    "        for l in seqs:\n",
    "            if re.match(\">\",l):\n",
    "                l=re.sub(\".*gene\\\\_name\\\\:\\\\s(.*)\\\\sorganism\\\\:\\\\s(.*)\\\\ssequence.*\",\">\\\\1_\\\\2\",l)\n",
    "                f.writelines(l+\"\\n\")\n",
    "            else:\n",
    "                f.writelines(l)\n",
    "    f.close()"
   ]
  },
  {
   "cell_type": "code",
   "execution_count": 2,
   "id": "140f389a",
   "metadata": {},
   "outputs": [
    {
     "name": "stderr",
     "output_type": "stream",
     "text": [
      "Tue Nov  8 14:30:23 2022 INFO Requesting amino acid sequence of the canonical transcript ENST00000273550 of gene ENSG00000167996 from UniProt.\n"
     ]
    },
    {
     "name": "stdout",
     "output_type": "stream",
     "text": [
      "ENSG00000167996\n"
     ]
    },
    {
     "name": "stderr",
     "output_type": "stream",
     "text": [
      "Tue Nov  8 14:30:31 2022 INFO Requesting amino acid sequence of the canonical transcript ENST00000379270 of gene ENSG00000130066 from UniProt.\n"
     ]
    },
    {
     "name": "stdout",
     "output_type": "stream",
     "text": [
      "ENSG00000130066\n"
     ]
    },
    {
     "name": "stderr",
     "output_type": "stream",
     "text": [
      "Tue Nov  8 14:30:47 2022 INFO Requesting amino acid sequence of the canonical transcript ENST00000379440 of gene ENSG00000171867 from UniProt.\n"
     ]
    },
    {
     "name": "stdout",
     "output_type": "stream",
     "text": [
      "ENSG00000171867\n"
     ]
    },
    {
     "name": "stderr",
     "output_type": "stream",
     "text": [
      "Tue Nov  8 14:31:07 2022 INFO Requesting amino acid sequence of the canonical transcript ENST00000332211 of gene ENSG00000165637 from UniProt.\n"
     ]
    },
    {
     "name": "stdout",
     "output_type": "stream",
     "text": [
      "ENSG00000165637\n"
     ]
    },
    {
     "name": "stderr",
     "output_type": "stream",
     "text": [
      "Tue Nov  8 14:31:16 2022 INFO Requesting amino acid sequence of the canonical transcript ENST00000370238 of gene ENSG00000023909 from UniProt.\n"
     ]
    },
    {
     "name": "stdout",
     "output_type": "stream",
     "text": [
      "ENSG00000023909\n"
     ]
    }
   ],
   "source": [
    "human_ENSG=[\n",
    "    \"ENSG00000167996\",\"ENSG00000130066\",\n",
    "    \"ENSG00000171867\",\"ENSG00000165637\",\"ENSG00000023909\"\n",
    "]\n",
    "for i in human_ENSG:\n",
    "    getSeq(i)\n",
    "    print(i)"
   ]
  },
  {
   "cell_type": "code",
   "execution_count": 3,
   "id": "ae124238",
   "metadata": {},
   "outputs": [
    {
     "name": "stderr",
     "output_type": "stream",
     "text": [
      "Tue Nov  8 14:31:49 2022 INFO Requesting amino acid sequence of the canonical transcript ENSMUST00000235196 of gene ENSMUSG00000024661 from UniProt.\n"
     ]
    },
    {
     "name": "stdout",
     "output_type": "stream",
     "text": [
      "ENSMUSG00000024661\n"
     ]
    },
    {
     "name": "stderr",
     "output_type": "stream",
     "text": [
      "Tue Nov  8 14:32:01 2022 INFO Requesting amino acid sequence of the canonical transcript ENSMUST00000112551 of gene ENSMUSG00000025283 from UniProt.\n",
      "Tue Nov  8 14:32:08 2022 WARNING No reviewed UniProt results were found for ID ENSMUST00000112551. Returning all unreviewed results.\n"
     ]
    },
    {
     "name": "stdout",
     "output_type": "stream",
     "text": [
      "ENSMUSG00000025283\n"
     ]
    },
    {
     "name": "stderr",
     "output_type": "stream",
     "text": [
      "Tue Nov  8 14:32:15 2022 INFO Requesting amino acid sequence of the canonical transcript ENSMUST00000091288 of gene ENSMUSG00000079037 from UniProt.\n"
     ]
    },
    {
     "name": "stdout",
     "output_type": "stream",
     "text": [
      "ENSMUSG00000079037\n"
     ]
    },
    {
     "name": "stderr",
     "output_type": "stream",
     "text": [
      "Tue Nov  8 14:32:27 2022 INFO Requesting amino acid sequence of the canonical transcript ENSMUST00000022293 of gene ENSMUSG00000021771 from UniProt.\n"
     ]
    },
    {
     "name": "stdout",
     "output_type": "stream",
     "text": [
      "ENSMUSG00000021771\n"
     ]
    },
    {
     "name": "stderr",
     "output_type": "stream",
     "text": [
      "Tue Nov  8 14:32:36 2022 INFO Requesting amino acid sequence of the canonical transcript ENSMUST00000029769 of gene ENSMUSG00000028124 from UniProt.\n"
     ]
    },
    {
     "name": "stdout",
     "output_type": "stream",
     "text": [
      "ENSMUSG00000028124\n"
     ]
    }
   ],
   "source": [
    "mus_ENSG=[\n",
    "    \"ENSMUSG00000024661\",\"ENSMUSG00000025283\",\"ENSMUSG00000079037\",\n",
    "    \"ENSMUSG00000021771\",\"ENSMUSG00000028124\"\n",
    "]\n",
    "for i in mus_ENSG:\n",
    "    getSeq(i)\n",
    "    print(i)"
   ]
  },
  {
   "cell_type": "markdown",
   "id": "4ecf23cb",
   "metadata": {},
   "source": [
    "## 应用20221214"
   ]
  },
  {
   "cell_type": "code",
   "execution_count": 1,
   "id": "dcb59ad7",
   "metadata": {},
   "outputs": [],
   "source": [
    "import re,gget\n",
    "def getSeq(ensembl):\n",
    "    seqs=gget.seq(ensembl, translate=True)\n",
    "    geneName=re.sub(\".*gene\\\\_name\\\\:\\\\s(.*)\\\\sorganism\\\\:\\\\s(.*)\\\\ssequence.*\",\"\\\\1\",seqs[0])\n",
    "    with open(geneName+\".fa\",\"w\") as f:\n",
    "        for l in seqs:\n",
    "            if re.match(\">\",l):\n",
    "                l=re.sub(\".*gene\\\\_name\\\\:\\\\s(.*)\\\\sorganism\\\\:\\\\s(.*)\\\\ssequence.*\",\">\\\\1_\\\\2\",l)\n",
    "                f.writelines(l+\"\\n\")\n",
    "            else:\n",
    "                f.writelines(l)\n",
    "    f.close()"
   ]
  },
  {
   "cell_type": "code",
   "execution_count": 2,
   "id": "8ccac187",
   "metadata": {
    "scrolled": true
   },
   "outputs": [
    {
     "name": "stderr",
     "output_type": "stream",
     "text": [
      "Wed Dec 14 14:58:44 2022 INFO Requesting amino acid sequence of the canonical transcript ENSMUST00000029297 of gene ENSMUSG00000027737 from UniProt.\n"
     ]
    },
    {
     "name": "stdout",
     "output_type": "stream",
     "text": [
      "ENSMUSG00000027737\n"
     ]
    },
    {
     "name": "stderr",
     "output_type": "stream",
     "text": [
      "Wed Dec 14 14:58:54 2022 INFO Requesting amino acid sequence of the canonical transcript ENSMUST00000055518 of gene ENSMUSG00000041417 from UniProt.\n"
     ]
    },
    {
     "name": "stdout",
     "output_type": "stream",
     "text": [
      "ENSMUSG00000041417\n"
     ]
    },
    {
     "name": "stderr",
     "output_type": "stream",
     "text": [
      "Wed Dec 14 14:59:04 2022 INFO Requesting amino acid sequence of the canonical transcript ENSMUST00000021674 of gene ENSMUSG00000021250 from UniProt.\n"
     ]
    },
    {
     "name": "stdout",
     "output_type": "stream",
     "text": [
      "ENSMUSG00000021250\n"
     ]
    }
   ],
   "source": [
    "mus_ENSG=[\n",
    "    \"ENSMUSG00000027737\",\"ENSMUSG00000041417\",\"ENSMUSG00000021250\"\n",
    "]\n",
    "for i in mus_ENSG:\n",
    "    getSeq(i)\n",
    "    print(i)"
   ]
  },
  {
   "cell_type": "code",
   "execution_count": 3,
   "id": "f81f7d54",
   "metadata": {},
   "outputs": [
    {
     "name": "stderr",
     "output_type": "stream",
     "text": [
      "Wed Dec 14 14:59:56 2022 INFO Requesting amino acid sequence of the canonical transcript ENST00000280612 of gene ENSG00000151012 from UniProt.\n"
     ]
    },
    {
     "name": "stdout",
     "output_type": "stream",
     "text": [
      "ENSG00000151012\n"
     ]
    },
    {
     "name": "stderr",
     "output_type": "stream",
     "text": [
      "Wed Dec 14 15:00:08 2022 INFO Requesting amino acid sequence of the canonical transcript ENST00000521381 of gene ENSG00000145675 from UniProt.\n"
     ]
    },
    {
     "name": "stdout",
     "output_type": "stream",
     "text": [
      "ENSG00000145675\n"
     ]
    },
    {
     "name": "stderr",
     "output_type": "stream",
     "text": [
      "Wed Dec 14 15:00:21 2022 INFO Requesting amino acid sequence of the canonical transcript ENST00000303562 of gene ENSG00000170345 from UniProt.\n"
     ]
    },
    {
     "name": "stdout",
     "output_type": "stream",
     "text": [
      "ENSG00000170345\n"
     ]
    }
   ],
   "source": [
    "human_ENSG=[\n",
    "    \"ENSG00000151012\",\"ENSG00000145675\",\"ENSG00000170345\"\n",
    "]\n",
    "for i in human_ENSG:\n",
    "    getSeq(i)\n",
    "    print(i)"
   ]
  },
  {
   "cell_type": "code",
   "execution_count": null,
   "id": "8195859a",
   "metadata": {},
   "outputs": [],
   "source": []
  },
  {
   "cell_type": "code",
   "execution_count": null,
   "id": "39f90883",
   "metadata": {},
   "outputs": [],
   "source": []
  },
  {
   "cell_type": "code",
   "execution_count": null,
   "id": "05a4ca56",
   "metadata": {},
   "outputs": [],
   "source": []
  },
  {
   "cell_type": "code",
   "execution_count": null,
   "id": "671258f2",
   "metadata": {},
   "outputs": [],
   "source": []
  },
  {
   "cell_type": "code",
   "execution_count": null,
   "id": "609650c6",
   "metadata": {},
   "outputs": [],
   "source": []
  },
  {
   "cell_type": "code",
   "execution_count": null,
   "id": "db793673",
   "metadata": {},
   "outputs": [],
   "source": []
  }
 ],
 "metadata": {
  "kernelspec": {
   "display_name": "Python 3",
   "language": "python",
   "name": "python3"
  },
  "language_info": {
   "codemirror_mode": {
    "name": "ipython",
    "version": 3
   },
   "file_extension": ".py",
   "mimetype": "text/x-python",
   "name": "python",
   "nbconvert_exporter": "python",
   "pygments_lexer": "ipython3",
   "version": "3.8.8"
  },
  "toc": {
   "base_numbering": 1,
   "nav_menu": {},
   "number_sections": true,
   "sideBar": true,
   "skip_h1_title": true,
   "title_cell": "Table of Contents",
   "title_sidebar": "Contents",
   "toc_cell": false,
   "toc_position": {
    "height": "calc(100% - 180px)",
    "left": "10px",
    "top": "150px",
    "width": "165px"
   },
   "toc_section_display": true,
   "toc_window_display": true
  }
 },
 "nbformat": 4,
 "nbformat_minor": 5
}
